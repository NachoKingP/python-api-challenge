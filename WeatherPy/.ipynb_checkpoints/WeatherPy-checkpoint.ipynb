{
 "cells": [
  {
   "cell_type": "markdown",
   "metadata": {},
   "source": [
    "# WeatherPy\n",
    "----\n",
    "\n",
    "#### Note\n",
    "* Instructions have been included for each segment. You do not have to follow them exactly, but they are included to help you think through the steps."
   ]
  },
  {
   "cell_type": "code",
   "execution_count": 1,
   "metadata": {},
   "outputs": [],
   "source": [
    "#Brian Remite - WeatherPy Homework - Repo Edition\n",
    "# Dependencies and Setup\n",
    "import matplotlib.pyplot as plt\n",
    "import pandas as pd\n",
    "import numpy as np\n",
    "import requests\n",
    "import time\n",
    "from scipy.stats import linregress\n",
    "from pprint import pprint \n",
    "from datetime import datetime\n",
    "\n",
    "# Import API key\n",
    "from api_keys import weather_api_key\n",
    "\n",
    "# Incorporated citipy to determine city based on latitude and longitude\n",
    "from citipy import citipy\n",
    "\n",
    "# Output File (CSV)\n",
    "output_data_file = \"output_data/cities.csv\""
   ]
  },
  {
   "cell_type": "markdown",
   "metadata": {},
   "source": [
    "# Run code limited to testing range (10 cities, North America only)"
   ]
  },
  {
   "cell_type": "code",
   "execution_count": 2,
   "metadata": {},
   "outputs": [],
   "source": [
    "# Range of latitudes and longitudes (testing list)\n",
    "lat_range_short = (19.50139, 64.85694)\n",
    "lng_range_short = (-161.75583, -68.01197)"
   ]
  },
  {
   "cell_type": "code",
   "execution_count": 3,
   "metadata": {},
   "outputs": [],
   "source": [
    "# Create a testing list that will hold latitudes and longitudes (testing list, NA only)\n",
    "lat_lngs_short = []\n",
    "\n",
    "# Create a testing list that will hold, city names (testing list, NA only)\n",
    "cities_short = []\n",
    "\n",
    "# Create a set of random lat and lng combinations (testing list, NA only)\n",
    "lats_short = np.random.uniform(low=19.50139, high=64.85694, size=11)\n",
    "lngs_short = np.random.uniform(low=-161.75583, high=-68.01197, size=11)\n",
    "lat_lngs_short = zip(lats_short, lngs_short)"
   ]
  },
  {
   "cell_type": "code",
   "execution_count": 4,
   "metadata": {},
   "outputs": [],
   "source": [
    "# For loop will identify the nearest city for each latitude and longitude (testing)\n",
    "# with citipy\n",
    "\n",
    "for lat_lng_short in lat_lngs_short:\n",
    "    city = citipy.nearest_city(lat_lng_short[0], lat_lng_short[1]).city_name\n",
    "    \n",
    "    # append unique city names to city list\n",
    "    if city not in cities_short:\n",
    "        cities_short.append(city)"
   ]
  },
  {
   "cell_type": "code",
   "execution_count": 5,
   "metadata": {},
   "outputs": [
    {
     "data": {
      "text/plain": [
       "['fortuna',\n",
       " 'lenoir',\n",
       " 'altamont',\n",
       " 'wahiawa',\n",
       " 'port hardy',\n",
       " 'kodiak',\n",
       " 'atikokan',\n",
       " 'tecolutla',\n",
       " 'elko']"
      ]
     },
     "execution_count": 5,
     "metadata": {},
     "output_type": "execute_result"
    }
   ],
   "source": [
    "#Display list of cities for testing purposes\n",
    "cities_short"
   ]
  },
  {
   "cell_type": "code",
   "execution_count": 6,
   "metadata": {},
   "outputs": [],
   "source": [
    "#Declare url and variables needed for API calls\n",
    "base_url = \"http://api.openweathermap.org/data/2.5/weather?\"\n",
    "units = \"imperial\"\n",
    "url = f\"{base_url}appid={weather_api_key}&units={units}&q=\"\n",
    "\n",
    "#Verify URL format\n",
    "#print(url)\n",
    "\n",
    "date = []\n",
    "country = []\n",
    "city_name = []\n",
    "lat = []\n",
    "lng = []\n",
    "max_temp = []\n",
    "humidity = []\n",
    "wind = []\n",
    "clouds = []"
   ]
  },
  {
   "cell_type": "code",
   "execution_count": 7,
   "metadata": {},
   "outputs": [
    {
     "name": "stdout",
     "output_type": "stream",
     "text": [
      "City 1 data extracted successfully.\n",
      "City 2 data extracted successfully.\n",
      "City 3 data extracted successfully.\n",
      "City 4 data extracted successfully.\n",
      "City 5 data extracted successfully.\n",
      "City 6 data extracted successfully.\n",
      "City 7 data extracted successfully.\n",
      "City 8 data extracted successfully.\n",
      "City 9 data extracted successfully.\n"
     ]
    }
   ],
   "source": [
    "#Make API Calls to get city weather data (test list)\n",
    "x = 1\n",
    "\n",
    "for city in cities_short:\n",
    "    city = city\n",
    "    query_url = url + city\n",
    "    response = requests.get(query_url).json()\n",
    "    #print(query_url)  #Check query_url for functionality\n",
    "    \n",
    "    try:\n",
    "        date.append(response[\"dt\"])\n",
    "        country.append(response[\"sys\"][\"country\"])\n",
    "        city_name.append(response[\"name\"])\n",
    "        lat.append(response[\"coord\"][\"lat\"])  \n",
    "        lng.append(response[\"coord\"][\"lon\"])\n",
    "        max_temp.append(response[\"main\"]['temp_max'])\n",
    "        humidity.append(response[\"main\"]['humidity'])\n",
    "        wind.append(response[\"wind\"][\"speed\"])\n",
    "        clouds.append(response[\"clouds\"][\"all\"])\n",
    "        print(f\"City {x} data extracted successfully.\")  #Verify data extract worked.\n",
    "        x+=1\n",
    "    except (KeyError):\n",
    "        print(f\"City {x} name not found.\")  #Inform user a city didn't extract properly.\n",
    "        x+=1"
   ]
  },
  {
   "cell_type": "markdown",
   "metadata": {},
   "source": [
    "### Convert Raw Data to DataFrame\n",
    "* Export the city data into a .csv.\n",
    "* Display the DataFrame"
   ]
  },
  {
   "cell_type": "code",
   "execution_count": 8,
   "metadata": {},
   "outputs": [],
   "source": [
    "#Take API data and place into DataFrame\n",
    "city_df = pd.DataFrame({\n",
    "                        \"Date\":date,\n",
    "                        \"Country\":country,\n",
    "                        \"City\":city_name,\n",
    "                        \"Lat\":lat,\n",
    "                        \"Lng\":lng,\n",
    "                        \"Max Temp\":max_temp, \n",
    "                        \"Humidity\":humidity,\n",
    "                        \"Wind Speed\":wind,\n",
    "                        \"Cloud Cover\":clouds\n",
    "                                         })\n",
    "city_df = city_df.rename_axis('City ID')"
   ]
  },
  {
   "cell_type": "code",
   "execution_count": 10,
   "metadata": {
    "scrolled": true
   },
   "outputs": [
    {
     "data": {
      "text/html": [
       "<div>\n",
       "<style scoped>\n",
       "    .dataframe tbody tr th:only-of-type {\n",
       "        vertical-align: middle;\n",
       "    }\n",
       "\n",
       "    .dataframe tbody tr th {\n",
       "        vertical-align: top;\n",
       "    }\n",
       "\n",
       "    .dataframe thead th {\n",
       "        text-align: right;\n",
       "    }\n",
       "</style>\n",
       "<table border=\"1\" class=\"dataframe\">\n",
       "  <thead>\n",
       "    <tr style=\"text-align: right;\">\n",
       "      <th></th>\n",
       "      <th>Date</th>\n",
       "      <th>Country</th>\n",
       "      <th>City</th>\n",
       "      <th>Lat</th>\n",
       "      <th>Lng</th>\n",
       "      <th>Max Temp</th>\n",
       "      <th>Humidity</th>\n",
       "      <th>Wind Speed</th>\n",
       "      <th>Cloud Cover</th>\n",
       "    </tr>\n",
       "    <tr>\n",
       "      <th>City ID</th>\n",
       "      <th></th>\n",
       "      <th></th>\n",
       "      <th></th>\n",
       "      <th></th>\n",
       "      <th></th>\n",
       "      <th></th>\n",
       "      <th></th>\n",
       "      <th></th>\n",
       "      <th></th>\n",
       "    </tr>\n",
       "  </thead>\n",
       "  <tbody>\n",
       "    <tr>\n",
       "      <th>0</th>\n",
       "      <td>1586288636</td>\n",
       "      <td>US</td>\n",
       "      <td>Fortuna</td>\n",
       "      <td>40.60</td>\n",
       "      <td>-124.16</td>\n",
       "      <td>59.00</td>\n",
       "      <td>81</td>\n",
       "      <td>10.29</td>\n",
       "      <td>1</td>\n",
       "    </tr>\n",
       "    <tr>\n",
       "      <th>1</th>\n",
       "      <td>1586288716</td>\n",
       "      <td>US</td>\n",
       "      <td>Lenoir</td>\n",
       "      <td>35.23</td>\n",
       "      <td>-77.65</td>\n",
       "      <td>84.99</td>\n",
       "      <td>30</td>\n",
       "      <td>3.36</td>\n",
       "      <td>40</td>\n",
       "    </tr>\n",
       "    <tr>\n",
       "      <th>2</th>\n",
       "      <td>1586288716</td>\n",
       "      <td>US</td>\n",
       "      <td>Altamont</td>\n",
       "      <td>42.21</td>\n",
       "      <td>-121.74</td>\n",
       "      <td>57.99</td>\n",
       "      <td>50</td>\n",
       "      <td>1.14</td>\n",
       "      <td>1</td>\n",
       "    </tr>\n",
       "    <tr>\n",
       "      <th>3</th>\n",
       "      <td>1586288716</td>\n",
       "      <td>US</td>\n",
       "      <td>Wahiawā</td>\n",
       "      <td>21.50</td>\n",
       "      <td>-158.02</td>\n",
       "      <td>78.80</td>\n",
       "      <td>73</td>\n",
       "      <td>7.92</td>\n",
       "      <td>75</td>\n",
       "    </tr>\n",
       "    <tr>\n",
       "      <th>4</th>\n",
       "      <td>1586288688</td>\n",
       "      <td>CA</td>\n",
       "      <td>Port Hardy</td>\n",
       "      <td>50.70</td>\n",
       "      <td>-127.42</td>\n",
       "      <td>46.40</td>\n",
       "      <td>50</td>\n",
       "      <td>12.75</td>\n",
       "      <td>40</td>\n",
       "    </tr>\n",
       "    <tr>\n",
       "      <th>5</th>\n",
       "      <td>1586288328</td>\n",
       "      <td>US</td>\n",
       "      <td>Saint Paul Harbor</td>\n",
       "      <td>57.79</td>\n",
       "      <td>-152.41</td>\n",
       "      <td>33.80</td>\n",
       "      <td>80</td>\n",
       "      <td>14.99</td>\n",
       "      <td>90</td>\n",
       "    </tr>\n",
       "    <tr>\n",
       "      <th>6</th>\n",
       "      <td>1586288716</td>\n",
       "      <td>CA</td>\n",
       "      <td>Atikokan</td>\n",
       "      <td>48.76</td>\n",
       "      <td>-91.62</td>\n",
       "      <td>45.61</td>\n",
       "      <td>72</td>\n",
       "      <td>6.44</td>\n",
       "      <td>97</td>\n",
       "    </tr>\n",
       "    <tr>\n",
       "      <th>7</th>\n",
       "      <td>1586288716</td>\n",
       "      <td>MX</td>\n",
       "      <td>Tecolutla</td>\n",
       "      <td>20.48</td>\n",
       "      <td>-97.02</td>\n",
       "      <td>89.60</td>\n",
       "      <td>62</td>\n",
       "      <td>6.93</td>\n",
       "      <td>40</td>\n",
       "    </tr>\n",
       "    <tr>\n",
       "      <th>8</th>\n",
       "      <td>1586288716</td>\n",
       "      <td>US</td>\n",
       "      <td>Elko</td>\n",
       "      <td>41.00</td>\n",
       "      <td>-115.50</td>\n",
       "      <td>55.40</td>\n",
       "      <td>47</td>\n",
       "      <td>4.70</td>\n",
       "      <td>20</td>\n",
       "    </tr>\n",
       "  </tbody>\n",
       "</table>\n",
       "</div>"
      ],
      "text/plain": [
       "               Date Country               City    Lat     Lng  Max Temp  \\\n",
       "City ID                                                                   \n",
       "0        1586288636      US            Fortuna  40.60 -124.16     59.00   \n",
       "1        1586288716      US             Lenoir  35.23  -77.65     84.99   \n",
       "2        1586288716      US           Altamont  42.21 -121.74     57.99   \n",
       "3        1586288716      US            Wahiawā  21.50 -158.02     78.80   \n",
       "4        1586288688      CA         Port Hardy  50.70 -127.42     46.40   \n",
       "5        1586288328      US  Saint Paul Harbor  57.79 -152.41     33.80   \n",
       "6        1586288716      CA           Atikokan  48.76  -91.62     45.61   \n",
       "7        1586288716      MX          Tecolutla  20.48  -97.02     89.60   \n",
       "8        1586288716      US               Elko  41.00 -115.50     55.40   \n",
       "\n",
       "         Humidity  Wind Speed  Cloud Cover  \n",
       "City ID                                     \n",
       "0              81       10.29            1  \n",
       "1              30        3.36           40  \n",
       "2              50        1.14            1  \n",
       "3              73        7.92           75  \n",
       "4              50       12.75           40  \n",
       "5              80       14.99           90  \n",
       "6              72        6.44           97  \n",
       "7              62        6.93           40  \n",
       "8              47        4.70           20  "
      ]
     },
     "execution_count": 10,
     "metadata": {},
     "output_type": "execute_result"
    }
   ],
   "source": [
    "#Exporting data to csv file (will be used for vacation challenge as well)\n",
    "city_df.to_csv(\"city_list.csv\")\n",
    "\n",
    "#Display DF\n",
    "city_df"
   ]
  },
  {
   "cell_type": "markdown",
   "metadata": {},
   "source": [
    "# Run Code on Full List (Skip this section when running tests)"
   ]
  },
  {
   "cell_type": "markdown",
   "metadata": {},
   "source": [
    "## Generate Cities List"
   ]
  },
  {
   "cell_type": "code",
   "execution_count": null,
   "metadata": {
    "scrolled": true
   },
   "outputs": [],
   "source": [
    "# Range of latitudes and longitudes (full list)\n",
    "lat_range = (-90, 90)\n",
    "lng_range = (-180, 180)"
   ]
  },
  {
   "cell_type": "code",
   "execution_count": null,
   "metadata": {},
   "outputs": [],
   "source": [
    "# List for holding lat_lngs and cities\n",
    "lat_lngs = []\n",
    "cities = []\n",
    "\n",
    "# Create a set of random lat and lng combinations\n",
    "lats = np.random.uniform(low=-90.000, high=90.000, size=1500)\n",
    "lngs = np.random.uniform(low=-180.000, high=180.000, size=1500)\n",
    "lat_lngs = zip(lats, lngs)\n",
    "\n",
    "# Identify nearest city for each lat, lng combination\n",
    "for lat_lng in lat_lngs:\n",
    "    city = citipy.nearest_city(lat_lng[0], lat_lng[1]).city_name\n",
    "    \n",
    "    # If the city is unique, then add it to a our cities list\n",
    "    if city not in cities:\n",
    "        cities.append(city)\n",
    "\n",
    "# Print the city count to confirm sufficient count\n",
    "len(cities)"
   ]
  },
  {
   "cell_type": "code",
   "execution_count": null,
   "metadata": {},
   "outputs": [],
   "source": [
    "#Display list of cities for testing purposes\n",
    "#cities"
   ]
  },
  {
   "cell_type": "markdown",
   "metadata": {},
   "source": [
    "### Perform API Calls\n",
    "* Perform a weather check on each city using a series of successive API calls.\n",
    "* Include a print log of each city as it'sbeing processed (with the city number and city name).\n"
   ]
  },
  {
   "cell_type": "code",
   "execution_count": null,
   "metadata": {},
   "outputs": [],
   "source": [
    "#Declare url and variables needed for API calls\n",
    "base_url = \"http://api.openweathermap.org/data/2.5/weather?\"\n",
    "units = \"imperial\"\n",
    "url = f\"{base_url}appid={weather_api_key}&units={units}&q=\"\n",
    "\n",
    "#Verify URL format\n",
    "#print(url)\n",
    "\n",
    "date = []\n",
    "country = []\n",
    "city_name = []\n",
    "lat = []\n",
    "lng = []\n",
    "max_temp = []\n",
    "humidity = []\n",
    "wind = []\n",
    "clouds = []\n",
    "x = 1"
   ]
  },
  {
   "cell_type": "code",
   "execution_count": null,
   "metadata": {},
   "outputs": [],
   "source": [
    "#Make API Calls to get city weather data \n",
    "x = 1\n",
    "\n",
    "for city in cities:\n",
    "    city = city\n",
    "    query_url = url + city\n",
    "    response = requests.get(query_url).json()\n",
    "    #print(query_url)  #Check query_url for functionality\n",
    "    \n",
    "    try:\n",
    "        date.append(response[\"dt\"])\n",
    "        country.append(response[\"sys\"][\"country\"])\n",
    "        city_name.append(response[\"name\"])\n",
    "        lat.append(response[\"coord\"][\"lat\"])  \n",
    "        lng.append(response[\"coord\"][\"lon\"])\n",
    "        max_temp.append(response[\"main\"]['temp_max'])\n",
    "        humidity.append(response[\"main\"]['humidity'])\n",
    "        wind.append(response[\"wind\"][\"speed\"])\n",
    "        clouds.append(response[\"clouds\"][\"all\"])\n",
    "        print(\"City {x} data extracted successfully.\")  #Verify data extract worked.\n",
    "        x+=1\n",
    "    except (KeyError):\n",
    "        print(\"City {x} name not found.\")  #Inform user a city didn't extract properly.\n",
    "        x+=1"
   ]
  },
  {
   "cell_type": "markdown",
   "metadata": {},
   "source": [
    "### Convert Raw Data to DataFrame\n",
    "* Export the city data into a .csv.\n",
    "* Display the DataFrame"
   ]
  },
  {
   "cell_type": "code",
   "execution_count": null,
   "metadata": {},
   "outputs": [],
   "source": [
    "#Take API data and place into DataFrame\n",
    "city_df = pd.DataFrame({\n",
    "                        \"Date\":date,\n",
    "                        \"Country\":country,\n",
    "                        \"City\":city_name,\n",
    "                        \"Lat\":lat,\n",
    "                        \"Lng\":lng,\n",
    "                        \"Max Temp\":max_temp, \n",
    "                        \"Humidity\":humidity,\n",
    "                        \"Wind Speed\":wind,\n",
    "                        \"Cloud Cover\":clouds\n",
    "                                         })\n",
    "city_df = city_df.rename_axis('City ID')"
   ]
  },
  {
   "cell_type": "code",
   "execution_count": null,
   "metadata": {},
   "outputs": [],
   "source": [
    "#output City DF to look at results\n",
    "city_df"
   ]
  },
  {
   "cell_type": "markdown",
   "metadata": {},
   "source": [
    "# Rest of code is agnostic to test or full list"
   ]
  },
  {
   "cell_type": "markdown",
   "metadata": {},
   "source": [
    "### Convert Date data to legible dates"
   ]
  },
  {
   "cell_type": "code",
   "execution_count": 11,
   "metadata": {},
   "outputs": [
    {
     "name": "stderr",
     "output_type": "stream",
     "text": [
      "C:\\ProgramData\\Anaconda3\\envs\\PythonData2020_1\\lib\\site-packages\\ipykernel_launcher.py:8: SettingWithCopyWarning: \n",
      "A value is trying to be set on a copy of a slice from a DataFrame\n",
      "\n",
      "See the caveats in the documentation: https://pandas.pydata.org/pandas-docs/stable/user_guide/indexing.html#returning-a-view-versus-a-copy\n",
      "  \n"
     ]
    },
    {
     "data": {
      "text/html": [
       "<div>\n",
       "<style scoped>\n",
       "    .dataframe tbody tr th:only-of-type {\n",
       "        vertical-align: middle;\n",
       "    }\n",
       "\n",
       "    .dataframe tbody tr th {\n",
       "        vertical-align: top;\n",
       "    }\n",
       "\n",
       "    .dataframe thead th {\n",
       "        text-align: right;\n",
       "    }\n",
       "</style>\n",
       "<table border=\"1\" class=\"dataframe\">\n",
       "  <thead>\n",
       "    <tr style=\"text-align: right;\">\n",
       "      <th></th>\n",
       "      <th>Date</th>\n",
       "      <th>Country</th>\n",
       "      <th>City</th>\n",
       "      <th>Lat</th>\n",
       "      <th>Lng</th>\n",
       "      <th>Max Temp</th>\n",
       "      <th>Humidity</th>\n",
       "      <th>Wind Speed</th>\n",
       "      <th>Cloud Cover</th>\n",
       "    </tr>\n",
       "    <tr>\n",
       "      <th>City ID</th>\n",
       "      <th></th>\n",
       "      <th></th>\n",
       "      <th></th>\n",
       "      <th></th>\n",
       "      <th></th>\n",
       "      <th></th>\n",
       "      <th></th>\n",
       "      <th></th>\n",
       "      <th></th>\n",
       "    </tr>\n",
       "  </thead>\n",
       "  <tbody>\n",
       "    <tr>\n",
       "      <th>0</th>\n",
       "      <td>2020-04-07 19:43:56</td>\n",
       "      <td>US</td>\n",
       "      <td>Fortuna</td>\n",
       "      <td>40.60</td>\n",
       "      <td>-124.16</td>\n",
       "      <td>59.00</td>\n",
       "      <td>81</td>\n",
       "      <td>10.29</td>\n",
       "      <td>1</td>\n",
       "    </tr>\n",
       "    <tr>\n",
       "      <th>1</th>\n",
       "      <td>2020-04-07 19:45:16</td>\n",
       "      <td>US</td>\n",
       "      <td>Lenoir</td>\n",
       "      <td>35.23</td>\n",
       "      <td>-77.65</td>\n",
       "      <td>84.99</td>\n",
       "      <td>30</td>\n",
       "      <td>3.36</td>\n",
       "      <td>40</td>\n",
       "    </tr>\n",
       "    <tr>\n",
       "      <th>2</th>\n",
       "      <td>2020-04-07 19:45:16</td>\n",
       "      <td>US</td>\n",
       "      <td>Altamont</td>\n",
       "      <td>42.21</td>\n",
       "      <td>-121.74</td>\n",
       "      <td>57.99</td>\n",
       "      <td>50</td>\n",
       "      <td>1.14</td>\n",
       "      <td>1</td>\n",
       "    </tr>\n",
       "    <tr>\n",
       "      <th>3</th>\n",
       "      <td>2020-04-07 19:45:16</td>\n",
       "      <td>US</td>\n",
       "      <td>Wahiawā</td>\n",
       "      <td>21.50</td>\n",
       "      <td>-158.02</td>\n",
       "      <td>78.80</td>\n",
       "      <td>73</td>\n",
       "      <td>7.92</td>\n",
       "      <td>75</td>\n",
       "    </tr>\n",
       "    <tr>\n",
       "      <th>4</th>\n",
       "      <td>2020-04-07 19:44:48</td>\n",
       "      <td>CA</td>\n",
       "      <td>Port Hardy</td>\n",
       "      <td>50.70</td>\n",
       "      <td>-127.42</td>\n",
       "      <td>46.40</td>\n",
       "      <td>50</td>\n",
       "      <td>12.75</td>\n",
       "      <td>40</td>\n",
       "    </tr>\n",
       "  </tbody>\n",
       "</table>\n",
       "</div>"
      ],
      "text/plain": [
       "                        Date Country        City    Lat     Lng  Max Temp  \\\n",
       "City ID                                                                     \n",
       "0        2020-04-07 19:43:56      US     Fortuna  40.60 -124.16     59.00   \n",
       "1        2020-04-07 19:45:16      US      Lenoir  35.23  -77.65     84.99   \n",
       "2        2020-04-07 19:45:16      US    Altamont  42.21 -121.74     57.99   \n",
       "3        2020-04-07 19:45:16      US     Wahiawā  21.50 -158.02     78.80   \n",
       "4        2020-04-07 19:44:48      CA  Port Hardy  50.70 -127.42     46.40   \n",
       "\n",
       "         Humidity  Wind Speed  Cloud Cover  \n",
       "City ID                                     \n",
       "0              81       10.29            1  \n",
       "1              30        3.36           40  \n",
       "2              50        1.14            1  \n",
       "3              73        7.92           75  \n",
       "4              50       12.75           40  "
      ]
     },
     "execution_count": 11,
     "metadata": {},
     "output_type": "execute_result"
    }
   ],
   "source": [
    "#Converting Date and time \n",
    "y = 0\n",
    "\n",
    "for y in range(0,len(city_df)):\n",
    "    timestamp = city_df[\"Date\"][y]\n",
    "    converted_timestamp = datetime.utcfromtimestamp(timestamp)\n",
    "    shortened_timestamp = datetime.date(converted_timestamp)\n",
    "    city_df[\"Date\"][y] = converted_timestamp\n",
    "    y+=1\n",
    "\n",
    "city_df.head()"
   ]
  },
  {
   "cell_type": "code",
   "execution_count": null,
   "metadata": {},
   "outputs": [],
   "source": []
  },
  {
   "cell_type": "markdown",
   "metadata": {},
   "source": [
    "### Plotting the Data\n",
    "* Use proper labeling of the plots using plot titles (including date of analysis) and axes labels.\n",
    "* Save the plotted figures as .pngs."
   ]
  },
  {
   "cell_type": "markdown",
   "metadata": {},
   "source": [
    "#### Latitude vs. Temperature Plot"
   ]
  },
  {
   "cell_type": "code",
   "execution_count": 12,
   "metadata": {
    "scrolled": true
   },
   "outputs": [
    {
     "data": {
      "image/png": "[encoded data removed]",
      "text/plain": [
       "<Figure size 432x288 with 1 Axes>"
      ]
     },
     "metadata": {
      "needs_background": "light"
     },
     "output_type": "display_data"
    }
   ],
   "source": [
    "plt.scatter(city_df[\"Lat\"], city_df[\"Max Temp\"], marker = \"o\", color = \"blue\",edgecolor = \"black\")\n",
    "plt.grid()\n",
    "plt.xlabel(\"Latitude\")\n",
    "plt.ylabel(\"Max Temperature (F)\")\n",
    "plt.title(f\"City Latitude vs. Max Temperature({shortened_timestamp})\")\n",
    "plt.savefig(\"Lat_vs_Temp_Plot\")\n",
    "plt.show()"
   ]
  },
  {
   "cell_type": "markdown",
   "metadata": {},
   "source": [
    "#### Latitude vs. Humidity Plot"
   ]
  },
  {
   "cell_type": "code",
   "execution_count": 13,
   "metadata": {},
   "outputs": [
    {
     "data": {
      "image/png": "[encoded data removed]",
      "text/plain": [
       "<Figure size 432x288 with 1 Axes>"
      ]
     },
     "metadata": {
      "needs_background": "light"
     },
     "output_type": "display_data"
    }
   ],
   "source": [
    "plt.scatter(city_df[\"Lat\"], city_df[\"Humidity\"], marker = \"o\", color = \"blue\",edgecolor = \"black\")\n",
    "plt.grid()\n",
    "plt.ylim(0, city_df[\"Humidity\"].max()+50)\n",
    "plt.xlabel(\"Latitude\")\n",
    "plt.ylabel(\"Humidity(%)\")\n",
    "plt.title(f\"City Latitude vs. Humidity ({shortened_timestamp})\")\n",
    "plt.savefig(\"Lat_vs_Humidity_Plot\")\n",
    "plt.show()"
   ]
  },
  {
   "cell_type": "markdown",
   "metadata": {},
   "source": [
    "#### Latitude vs. Cloudiness Plot"
   ]
  },
  {
   "cell_type": "code",
   "execution_count": 14,
   "metadata": {},
   "outputs": [
    {
     "data": {
      "image/png": "[encoded data removed]",
      "text/plain": [
       "<Figure size 432x288 with 1 Axes>"
      ]
     },
     "metadata": {
      "needs_background": "light"
     },
     "output_type": "display_data"
    }
   ],
   "source": [
    "plt.scatter(city_df[\"Lat\"], city_df[\"Cloud Cover\"], marker = \"o\", color = \"blue\",edgecolor = \"black\")\n",
    "plt.grid()\n",
    "plt.xlabel(\"Latitude\")\n",
    "plt.ylabel(\"Cloudiness(%)\")\n",
    "plt.title(f\"City Latitude vs. Cloudiness ({shortened_timestamp})\")\n",
    "plt.savefig(\"Lat_vs_Cloudiness_PLOL, dunno why I can't remember thatlot\")\n",
    "plt.show()"
   ]
  },
  {
   "cell_type": "markdown",
   "metadata": {},
   "source": [
    "#### Latitude vs. Wind Speed Plot"
   ]
  },
  {
   "cell_type": "code",
   "execution_count": 15,
   "metadata": {},
   "outputs": [
    {
     "data": {
      "image/png": "[encoded data removed]",
      "text/plain": [
       "<Figure size 432x288 with 1 Axes>"
      ]
     },
     "metadata": {
      "needs_background": "light"
     },
     "output_type": "display_data"
    }
   ],
   "source": [
    "plt.scatter(city_df[\"Lat\"], city_df[\"Wind Speed\"], marker = \"o\", color = \"blue\",edgecolor = \"black\")\n",
    "plt.grid()\n",
    "plt.xlabel(\"Latitude\")\n",
    "plt.ylabel(\"Wind Speed(mph)\")\n",
    "plt.title(f\"City Latitude vs. Wind Speed ({shortened_timestamp})\")\n",
    "plt.savefig(\"Lat_vs_WindSpeed_Plot\")\n",
    "plt.show()"
   ]
  },
  {
   "cell_type": "markdown",
   "metadata": {},
   "source": [
    "## Linear Regression"
   ]
  },
  {
   "cell_type": "code",
   "execution_count": null,
   "metadata": {},
   "outputs": [],
   "source": [
    "# OPTIONAL: Create a function to create Linear Regression plots\n"
   ]
  },
  {
   "cell_type": "code",
   "execution_count": null,
   "metadata": {},
   "outputs": [],
   "source": [
    "# Create Northern and Southern Hemisphere DataFrames\n"
   ]
  },
  {
   "cell_type": "markdown",
   "metadata": {},
   "source": [
    "####  Northern Hemisphere - Max Temp vs. Latitude Linear Regression"
   ]
  },
  {
   "cell_type": "code",
   "execution_count": null,
   "metadata": {},
   "outputs": [],
   "source": []
  },
  {
   "cell_type": "markdown",
   "metadata": {},
   "source": [
    "####  Southern Hemisphere - Max Temp vs. Latitude Linear Regression"
   ]
  },
  {
   "cell_type": "code",
   "execution_count": null,
   "metadata": {},
   "outputs": [],
   "source": []
  },
  {
   "cell_type": "markdown",
   "metadata": {},
   "source": [
    "####  Northern Hemisphere - Humidity (%) vs. Latitude Linear Regression"
   ]
  },
  {
   "cell_type": "code",
   "execution_count": null,
   "metadata": {},
   "outputs": [],
   "source": []
  },
  {
   "cell_type": "markdown",
   "metadata": {},
   "source": [
    "####  Southern Hemisphere - Humidity (%) vs. Latitude Linear Regression"
   ]
  },
  {
   "cell_type": "code",
   "execution_count": null,
   "metadata": {},
   "outputs": [],
   "source": []
  },
  {
   "cell_type": "markdown",
   "metadata": {},
   "source": [
    "####  Northern Hemisphere - Cloudiness (%) vs. Latitude Linear Regression"
   ]
  },
  {
   "cell_type": "code",
   "execution_count": null,
   "metadata": {},
   "outputs": [],
   "source": []
  },
  {
   "cell_type": "markdown",
   "metadata": {},
   "source": [
    "####  Southern Hemisphere - Cloudiness (%) vs. Latitude Linear Regression"
   ]
  },
  {
   "cell_type": "code",
   "execution_count": null,
   "metadata": {},
   "outputs": [],
   "source": []
  },
  {
   "cell_type": "markdown",
   "metadata": {},
   "source": [
    "####  Northern Hemisphere - Wind Speed (mph) vs. Latitude Linear Regression"
   ]
  },
  {
   "cell_type": "code",
   "execution_count": null,
   "metadata": {},
   "outputs": [],
   "source": []
  },
  {
   "cell_type": "markdown",
   "metadata": {},
   "source": [
    "####  Southern Hemisphere - Wind Speed (mph) vs. Latitude Linear Regression"
   ]
  },
  {
   "cell_type": "code",
   "execution_count": null,
   "metadata": {},
   "outputs": [],
   "source": []
  },
  {
   "cell_type": "code",
   "execution_count": null,
   "metadata": {},
   "outputs": [],
   "source": []
  }
 ],
 "metadata": {
  "anaconda-cloud": {},
  "kernel_info": {
   "name": "python3"
  },
  "kernelspec": {
   "display_name": "Python 3",
   "language": "python",
   "name": "python3"
  },
  "language_info": {
   "codemirror_mode": {
    "name": "ipython",
    "version": 3
   },
   "file_extension": ".py",
   "mimetype": "text/x-python",
   "name": "python",
   "nbconvert_exporter": "python",
   "pygments_lexer": "ipython3",
   "version": "3.6.10"
  },
  "latex_envs": {
   "LaTeX_envs_menu_present": true,
   "autoclose": false,
   "autocomplete": true,
   "bibliofile": "biblio.bib",
   "cite_by": "apalike",
   "current_citInitial": 1,
   "eqLabelWithNumbers": true,
   "eqNumInitial": 1,
   "hotkeys": {
    "equation": "Ctrl-E",
    "itemize": "Ctrl-I"
   },
   "labels_anchors": false,
   "latex_user_defs": false,
   "report_style_numbering": false,
   "user_envs_cfg": false
  },
  "nteract": {
   "version": "0.12.3"
  }
 },
 "nbformat": 4,
 "nbformat_minor": 2
}
